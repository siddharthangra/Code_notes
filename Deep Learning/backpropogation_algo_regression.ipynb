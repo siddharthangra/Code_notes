{
 "cells": [
  {
   "cell_type": "code",
   "execution_count": 7,
   "metadata": {},
   "outputs": [],
   "source": [
    "import numpy as np \n",
    "import pandas as pd"
   ]
  },
  {
   "cell_type": "markdown",
   "metadata": {},
   "source": [
    "#### perparing dataset"
   ]
  },
  {
   "cell_type": "code",
   "execution_count": 10,
   "metadata": {},
   "outputs": [],
   "source": [
    "df = pd.DataFrame([[8,8,4],[7,9,5],[6,10,6],[5,12,7]], columns= ['cgpa','resume_score','package(lpa)'])"
   ]
  },
  {
   "cell_type": "code",
   "execution_count": 11,
   "metadata": {},
   "outputs": [
    {
     "data": {
      "text/html": [
       "<div>\n",
       "<style scoped>\n",
       "    .dataframe tbody tr th:only-of-type {\n",
       "        vertical-align: middle;\n",
       "    }\n",
       "\n",
       "    .dataframe tbody tr th {\n",
       "        vertical-align: top;\n",
       "    }\n",
       "\n",
       "    .dataframe thead th {\n",
       "        text-align: right;\n",
       "    }\n",
       "</style>\n",
       "<table border=\"1\" class=\"dataframe\">\n",
       "  <thead>\n",
       "    <tr style=\"text-align: right;\">\n",
       "      <th></th>\n",
       "      <th>cgpa</th>\n",
       "      <th>resume_score</th>\n",
       "      <th>package(lpa)</th>\n",
       "    </tr>\n",
       "  </thead>\n",
       "  <tbody>\n",
       "    <tr>\n",
       "      <th>0</th>\n",
       "      <td>8</td>\n",
       "      <td>8</td>\n",
       "      <td>4</td>\n",
       "    </tr>\n",
       "    <tr>\n",
       "      <th>1</th>\n",
       "      <td>7</td>\n",
       "      <td>9</td>\n",
       "      <td>5</td>\n",
       "    </tr>\n",
       "    <tr>\n",
       "      <th>2</th>\n",
       "      <td>6</td>\n",
       "      <td>10</td>\n",
       "      <td>6</td>\n",
       "    </tr>\n",
       "    <tr>\n",
       "      <th>3</th>\n",
       "      <td>5</td>\n",
       "      <td>12</td>\n",
       "      <td>7</td>\n",
       "    </tr>\n",
       "  </tbody>\n",
       "</table>\n",
       "</div>"
      ],
      "text/plain": [
       "   cgpa  resume_score  package(lpa)\n",
       "0     8             8             4\n",
       "1     7             9             5\n",
       "2     6            10             6\n",
       "3     5            12             7"
      ]
     },
     "execution_count": 11,
     "metadata": {},
     "output_type": "execute_result"
    }
   ],
   "source": [
    "df"
   ]
  },
  {
   "cell_type": "markdown",
   "metadata": {},
   "source": [
    "#### Step 1 \"Algorithm for prediction\""
   ]
  },
  {
   "cell_type": "code",
   "execution_count": 2,
   "metadata": {},
   "outputs": [],
   "source": [
    "\n",
    "def initliasing_parameters(layers_dim):\n",
    "    np.random.seed(3)\n",
    "    parameters = {}\n",
    "    L = len(layers_dim)\n",
    "    for i in range(1,L):\n",
    "        parameters['W'+str(i)] = np.ones((layers_dim[i-1],layers_dim[i]))*0.1\n",
    "        parameters['b' + str(i)] = np.zeros((layers_dim[i],1))\n",
    "\n",
    "    return parameters"
   ]
  },
  {
   "cell_type": "code",
   "execution_count": 5,
   "metadata": {},
   "outputs": [
    {
     "data": {
      "text/plain": [
       "{'W1': array([[0.1, 0.1],\n",
       "        [0.1, 0.1]]),\n",
       " 'b1': array([[0.],\n",
       "        [0.]]),\n",
       " 'W2': array([[0.1],\n",
       "        [0.1]]),\n",
       " 'b2': array([[0.]])}"
      ]
     },
     "execution_count": 5,
     "metadata": {},
     "output_type": "execute_result"
    }
   ],
   "source": [
    "parameters = initliasing_parameters([2,2,1])\n",
    "parameters"
   ]
  },
  {
   "cell_type": "code",
   "execution_count": 6,
   "metadata": {},
   "outputs": [
    {
     "data": {
      "text/plain": [
       "4"
      ]
     },
     "execution_count": 6,
     "metadata": {},
     "output_type": "execute_result"
    }
   ],
   "source": [
    "len(parameters)"
   ]
  },
  {
   "cell_type": "code",
   "execution_count": 14,
   "metadata": {},
   "outputs": [],
   "source": [
    "def forwardoutput(A,W,b):\n",
    "    z = np.dot(W.T, A) + b\n",
    "    return z\n",
    "\n",
    "# A is the matrix of nodes in each layer here therefore its dimension will always be nx1 where n is number of nodes in that layer"
   ]
  },
  {
   "cell_type": "code",
   "execution_count": 25,
   "metadata": {},
   "outputs": [],
   "source": [
    "def forwardpropgation(x,parameters):\n",
    "    A = x\n",
    "    L = len(parameters) // 2\n",
    "\n",
    "    for i in range(1, L+1):\n",
    "        A_prev = A\n",
    "        W = parameters['W' + str(i)]\n",
    "        b = parameters['b' + str(i)]\n",
    "        A = forwardoutput(A_prev,W,b)\n",
    "    \n",
    "    return A_prev, A\n",
    "\n",
    "# This is the function for finding prediction with given weights and bias for one one data entry \n",
    "# x will be the input layer here i.e each data entry row\n"
   ]
  },
  {
   "cell_type": "markdown",
   "metadata": {},
   "source": [
    "#### Step 2 \"Algorithm for caculating loss through MSE\""
   ]
  },
  {
   "cell_type": "code",
   "execution_count": 26,
   "metadata": {},
   "outputs": [],
   "source": [
    "def calloss(y,A):\n",
    "    loss = (y - A[0][0])**2 \n",
    "    return loss\n",
    "\n",
    "# y is actual result"
   ]
  },
  {
   "cell_type": "markdown",
   "metadata": {},
   "source": [
    "#### Step 3 \"Updating wt and biass through gradient descent\""
   ]
  },
  {
   "cell_type": "code",
   "execution_count": 66,
   "metadata": {},
   "outputs": [],
   "source": [
    "def updateparameters(Ao,A1,y,x,parameters):\n",
    "    y_pred = Ao[0][0]\n",
    "\n",
    "    parameters['W2'][0][0] = parameters['W2'][0][0] + (2*0.001*(y-y_pred)*A1[0][0])\n",
    "    parameters['W2'][1][0] = parameters['W2'][1][0] + (2*0.001*(y-y_pred)*A1[1][0])\n",
    "    parameters['b2'][0][0] = parameters['b2'][0][0] + (2*0.001*(y-y_pred))\n",
    "\n",
    "    parameters['W1'][0][0] = parameters['W1'][0][0] + (2*0.001*(y-y_pred)*parameters['W2'][0][0]*x[0][0])\n",
    "    parameters['W1'][1][0] = parameters['W1'][1][0] + (2*0.001*(y-y_pred)*parameters['W2'][0][0]*x[1][0])\n",
    "    parameters['b1'][0][0] = parameters['b1'][0][0] + (2*0.001*(y-y_pred)*parameters['W2'][0][0])\n",
    "\n",
    "    parameters['W1'][0][1] = parameters['W1'][0][1] + (2*0.001*(y-y_pred)*parameters['W2'][1][0]*x[0][0])\n",
    "    parameters['W1'][1][1] = parameters['W1'][1][1] + (2*0.001*(y-y_pred)*parameters['W2'][1][0]*x[1][0])\n",
    "    parameters['b1'][1][0] = parameters['b1'][1][0] + (2*0.001*(y-y_pred)*parameters['W2'][1][0])\n",
    "    \n",
    "    "
   ]
  },
  {
   "cell_type": "code",
   "execution_count": 21,
   "metadata": {},
   "outputs": [
    {
     "data": {
      "text/plain": [
       "array([4, 5, 6, 7], dtype=int64)"
      ]
     },
     "execution_count": 21,
     "metadata": {},
     "output_type": "execute_result"
    }
   ],
   "source": [
    "df.iloc[:,2].to_numpy()"
   ]
  },
  {
   "cell_type": "markdown",
   "metadata": {},
   "source": [
    "#### Recursion algo for finding optimal weights and biases"
   ]
  },
  {
   "cell_type": "code",
   "execution_count": 72,
   "metadata": {},
   "outputs": [
    {
     "name": "stdout",
     "output_type": "stream",
     "text": [
      "Epoch -  1 Loss -  14.124355121939754\n",
      "Epoch -  2 Loss -  8.044841670693888\n",
      "Epoch -  3 Loss -  3.023860382136019\n",
      "Epoch -  4 Loss -  0.9165584807525101\n",
      "Epoch -  5 Loss -  0.6867827517284514\n"
     ]
    }
   ],
   "source": [
    "def neuralnetwork(data_frame):\n",
    "    x = data_frame.iloc[:,:2].to_numpy()\n",
    "    y = data_frame.iloc[:,2].to_numpy()\n",
    "    parameters = initliasing_parameters([2,2,1])\n",
    "    epoch = 5\n",
    "    for i in range(epoch):\n",
    "        Loss = []\n",
    "        for j in range(x.shape[0]):\n",
    "            input = x[j,:].reshape(2,1)\n",
    "            A1, Ao = forwardpropgation(input, parameters)\n",
    "            Loss.append(calloss(y[j],A1))\n",
    "            updateparameters(Ao,A1,y[j],input,parameters)\n",
    "        print('Epoch - ',i+1,'Loss - ',np.array(Loss).mean())\n",
    "\n",
    "\n",
    "neuralnetwork(df)\n",
    "\n",
    "            \n",
    "\n"
   ]
  },
  {
   "cell_type": "code",
   "execution_count": 63,
   "metadata": {},
   "outputs": [
    {
     "data": {
      "text/plain": [
       "numpy.float64"
      ]
     },
     "execution_count": 63,
     "metadata": {},
     "output_type": "execute_result"
    }
   ],
   "source": [
    "x = df.iloc[:,:2].to_numpy()\n",
    "x = x[0,:].reshape(2,1).astype(float)\n",
    "type(x[0][0])"
   ]
  },
  {
   "cell_type": "code",
   "execution_count": 69,
   "metadata": {},
   "outputs": [
    {
     "data": {
      "text/plain": [
       "{'W1': array([[0.10658137, 0.1       ],\n",
       "        [0.10658137, 0.1       ]]),\n",
       " 'b1': array([[0.00082267],\n",
       "        [0.        ]]),\n",
       " 'W2': array([[0.111776],\n",
       "        [0.111776]]),\n",
       " 'b2': array([[0.00736]])}"
      ]
     },
     "execution_count": 69,
     "metadata": {},
     "output_type": "execute_result"
    }
   ],
   "source": [
    "parameters"
   ]
  },
  {
   "cell_type": "code",
   "execution_count": null,
   "metadata": {},
   "outputs": [],
   "source": []
  }
 ],
 "metadata": {
  "kernelspec": {
   "display_name": "Python 3",
   "language": "python",
   "name": "python3"
  },
  "language_info": {
   "codemirror_mode": {
    "name": "ipython",
    "version": 3
   },
   "file_extension": ".py",
   "mimetype": "text/x-python",
   "name": "python",
   "nbconvert_exporter": "python",
   "pygments_lexer": "ipython3",
   "version": "3.12.6"
  }
 },
 "nbformat": 4,
 "nbformat_minor": 2
}
