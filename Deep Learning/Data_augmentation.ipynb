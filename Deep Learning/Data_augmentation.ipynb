{
 "cells": [
  {
   "cell_type": "code",
   "execution_count": 1,
   "metadata": {},
   "outputs": [],
   "source": [
    "import tensorflow as tf\n",
    "from tensorflow import keras\n",
    "from tensorflow.keras import Sequential"
   ]
  },
  {
   "cell_type": "code",
   "execution_count": null,
   "metadata": {},
   "outputs": [],
   "source": [
    "import tensorflow as tf\n",
    "from tensorflow.keras import layers\n",
    "\n",
    "data_augmentation = tf.keras.Sequential([\n",
    "    layers.RandomFlip(\"horizontal\"),         # Flip image left-right\n",
    "    layers.RandomRotation(0.1),              # Rotate ±10% of 360° (~36°)\n",
    "    layers.RandomZoom(0.2, 0.2),             # Zoom in/out by 20%\n",
    "    layers.RandomTranslation(0.2, 0.2),      # Translate image by 20%\n",
    "    layers.RandomContrast(0.2),              # Change contrast randomly\n",
    "    layers.RandomBrightness(0.2)             # Adjust brightness randomly\n",
    "])\n",
    "\n",
    "# Apply augmentation\n",
    "def augment(image, label):\n",
    "    return data_augmentation(image, training=True), label\n",
    "\n",
    "train_ds = train_ds.map(augment).prefetch(buffer_size=tf.data.AUTOTUNE)\n"
   ]
  }
 ],
 "metadata": {
  "kernelspec": {
   "display_name": "Python 3",
   "language": "python",
   "name": "python3"
  },
  "language_info": {
   "codemirror_mode": {
    "name": "ipython",
    "version": 3
   },
   "file_extension": ".py",
   "mimetype": "text/x-python",
   "name": "python",
   "nbconvert_exporter": "python",
   "pygments_lexer": "ipython3",
   "version": "3.12.6"
  }
 },
 "nbformat": 4,
 "nbformat_minor": 2
}
